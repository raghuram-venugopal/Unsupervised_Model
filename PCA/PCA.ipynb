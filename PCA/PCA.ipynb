{
 "cells": [
  {
   "cell_type": "markdown",
   "metadata": {},
   "source": [
    "<h1><center>Dimentionality Reduction - Principal Component Analysis</center></h1>"
   ]
  },
  {
   "cell_type": "code",
   "execution_count": 1,
   "metadata": {},
   "outputs": [],
   "source": [
    "import pandas as pd\n",
    "import numpy as np\n",
    "import matplotlib.pyplot as plt"
   ]
  },
  {
   "cell_type": "code",
   "execution_count": 2,
   "metadata": {},
   "outputs": [],
   "source": [
    "digit_dataset = pd.read_csv('digit_recognizer_train.csv')"
   ]
  },
  {
   "cell_type": "code",
   "execution_count": 3,
   "metadata": {},
   "outputs": [
    {
     "data": {
      "text/html": [
       "<div>\n",
       "<style scoped>\n",
       "    .dataframe tbody tr th:only-of-type {\n",
       "        vertical-align: middle;\n",
       "    }\n",
       "\n",
       "    .dataframe tbody tr th {\n",
       "        vertical-align: top;\n",
       "    }\n",
       "\n",
       "    .dataframe thead th {\n",
       "        text-align: right;\n",
       "    }\n",
       "</style>\n",
       "<table border=\"1\" class=\"dataframe\">\n",
       "  <thead>\n",
       "    <tr style=\"text-align: right;\">\n",
       "      <th></th>\n",
       "      <th>label</th>\n",
       "      <th>pixel0</th>\n",
       "      <th>pixel1</th>\n",
       "      <th>pixel2</th>\n",
       "      <th>pixel3</th>\n",
       "      <th>pixel4</th>\n",
       "      <th>pixel5</th>\n",
       "      <th>pixel6</th>\n",
       "      <th>pixel7</th>\n",
       "      <th>pixel8</th>\n",
       "      <th>...</th>\n",
       "      <th>pixel774</th>\n",
       "      <th>pixel775</th>\n",
       "      <th>pixel776</th>\n",
       "      <th>pixel777</th>\n",
       "      <th>pixel778</th>\n",
       "      <th>pixel779</th>\n",
       "      <th>pixel780</th>\n",
       "      <th>pixel781</th>\n",
       "      <th>pixel782</th>\n",
       "      <th>pixel783</th>\n",
       "    </tr>\n",
       "  </thead>\n",
       "  <tbody>\n",
       "    <tr>\n",
       "      <th>0</th>\n",
       "      <td>1</td>\n",
       "      <td>0</td>\n",
       "      <td>0</td>\n",
       "      <td>0</td>\n",
       "      <td>0</td>\n",
       "      <td>0</td>\n",
       "      <td>0</td>\n",
       "      <td>0</td>\n",
       "      <td>0</td>\n",
       "      <td>0</td>\n",
       "      <td>...</td>\n",
       "      <td>0</td>\n",
       "      <td>0</td>\n",
       "      <td>0</td>\n",
       "      <td>0</td>\n",
       "      <td>0</td>\n",
       "      <td>0</td>\n",
       "      <td>0</td>\n",
       "      <td>0</td>\n",
       "      <td>0</td>\n",
       "      <td>0</td>\n",
       "    </tr>\n",
       "    <tr>\n",
       "      <th>1</th>\n",
       "      <td>0</td>\n",
       "      <td>0</td>\n",
       "      <td>0</td>\n",
       "      <td>0</td>\n",
       "      <td>0</td>\n",
       "      <td>0</td>\n",
       "      <td>0</td>\n",
       "      <td>0</td>\n",
       "      <td>0</td>\n",
       "      <td>0</td>\n",
       "      <td>...</td>\n",
       "      <td>0</td>\n",
       "      <td>0</td>\n",
       "      <td>0</td>\n",
       "      <td>0</td>\n",
       "      <td>0</td>\n",
       "      <td>0</td>\n",
       "      <td>0</td>\n",
       "      <td>0</td>\n",
       "      <td>0</td>\n",
       "      <td>0</td>\n",
       "    </tr>\n",
       "    <tr>\n",
       "      <th>2</th>\n",
       "      <td>1</td>\n",
       "      <td>0</td>\n",
       "      <td>0</td>\n",
       "      <td>0</td>\n",
       "      <td>0</td>\n",
       "      <td>0</td>\n",
       "      <td>0</td>\n",
       "      <td>0</td>\n",
       "      <td>0</td>\n",
       "      <td>0</td>\n",
       "      <td>...</td>\n",
       "      <td>0</td>\n",
       "      <td>0</td>\n",
       "      <td>0</td>\n",
       "      <td>0</td>\n",
       "      <td>0</td>\n",
       "      <td>0</td>\n",
       "      <td>0</td>\n",
       "      <td>0</td>\n",
       "      <td>0</td>\n",
       "      <td>0</td>\n",
       "    </tr>\n",
       "    <tr>\n",
       "      <th>3</th>\n",
       "      <td>4</td>\n",
       "      <td>0</td>\n",
       "      <td>0</td>\n",
       "      <td>0</td>\n",
       "      <td>0</td>\n",
       "      <td>0</td>\n",
       "      <td>0</td>\n",
       "      <td>0</td>\n",
       "      <td>0</td>\n",
       "      <td>0</td>\n",
       "      <td>...</td>\n",
       "      <td>0</td>\n",
       "      <td>0</td>\n",
       "      <td>0</td>\n",
       "      <td>0</td>\n",
       "      <td>0</td>\n",
       "      <td>0</td>\n",
       "      <td>0</td>\n",
       "      <td>0</td>\n",
       "      <td>0</td>\n",
       "      <td>0</td>\n",
       "    </tr>\n",
       "    <tr>\n",
       "      <th>4</th>\n",
       "      <td>0</td>\n",
       "      <td>0</td>\n",
       "      <td>0</td>\n",
       "      <td>0</td>\n",
       "      <td>0</td>\n",
       "      <td>0</td>\n",
       "      <td>0</td>\n",
       "      <td>0</td>\n",
       "      <td>0</td>\n",
       "      <td>0</td>\n",
       "      <td>...</td>\n",
       "      <td>0</td>\n",
       "      <td>0</td>\n",
       "      <td>0</td>\n",
       "      <td>0</td>\n",
       "      <td>0</td>\n",
       "      <td>0</td>\n",
       "      <td>0</td>\n",
       "      <td>0</td>\n",
       "      <td>0</td>\n",
       "      <td>0</td>\n",
       "    </tr>\n",
       "  </tbody>\n",
       "</table>\n",
       "<p>5 rows × 785 columns</p>\n",
       "</div>"
      ],
      "text/plain": [
       "   label  pixel0  pixel1  pixel2  pixel3  pixel4  pixel5  pixel6  pixel7  \\\n",
       "0      1       0       0       0       0       0       0       0       0   \n",
       "1      0       0       0       0       0       0       0       0       0   \n",
       "2      1       0       0       0       0       0       0       0       0   \n",
       "3      4       0       0       0       0       0       0       0       0   \n",
       "4      0       0       0       0       0       0       0       0       0   \n",
       "\n",
       "   pixel8  ...  pixel774  pixel775  pixel776  pixel777  pixel778  pixel779  \\\n",
       "0       0  ...         0         0         0         0         0         0   \n",
       "1       0  ...         0         0         0         0         0         0   \n",
       "2       0  ...         0         0         0         0         0         0   \n",
       "3       0  ...         0         0         0         0         0         0   \n",
       "4       0  ...         0         0         0         0         0         0   \n",
       "\n",
       "   pixel780  pixel781  pixel782  pixel783  \n",
       "0         0         0         0         0  \n",
       "1         0         0         0         0  \n",
       "2         0         0         0         0  \n",
       "3         0         0         0         0  \n",
       "4         0         0         0         0  \n",
       "\n",
       "[5 rows x 785 columns]"
      ]
     },
     "execution_count": 3,
     "metadata": {},
     "output_type": "execute_result"
    }
   ],
   "source": [
    "digit_dataset.head()"
   ]
  },
  {
   "cell_type": "code",
   "execution_count": 4,
   "metadata": {},
   "outputs": [],
   "source": [
    "digit_X = digit_dataset.iloc[:, 1:]\n",
    "digit_y = digit_dataset['label']"
   ]
  },
  {
   "cell_type": "code",
   "execution_count": 5,
   "metadata": {},
   "outputs": [],
   "source": [
    "# By default train_test_split does STRATIFIED split based on label (y-value).\n",
    "from sklearn.model_selection import train_test_split\n",
    "digit_X_train, digit_X_test, digit_y_train, digit_y_test = train_test_split(digit_X, digit_y, test_size=0.2)"
   ]
  },
  {
   "cell_type": "code",
   "execution_count": 13,
   "metadata": {},
   "outputs": [],
   "source": [
    "some_digit = digit_X_train.loc[29814]\n",
    "some_digit_image = some_digit.values.reshape(28, 28)"
   ]
  },
  {
   "cell_type": "code",
   "execution_count": 17,
   "metadata": {},
   "outputs": [
    {
     "name": "stdout",
     "output_type": "stream",
     "text": [
      "[[  0   0   0   0   0   0   0   0   0   0   0   0   0   0   0   0   0   0   0   0   0   0   0   0   0   0   0   0]\n",
      " [  0   0   0   0   0   0   0   0   0   0   0   0   0   0   0   0   0   0   0   0   0   0   0   0   0   0   0   0]\n",
      " [  0   0   0   0   0   0   0   0   0   0   0   0   0   0   0   0   0   0   0   0   0   0   0   0   0   0   0   0]\n",
      " [  0   0   0   0   0   0   0   0   0   0   0   0   0   0   0   0   0   0   0   0   0   0   0   0   0   0   0   0]\n",
      " [  0   0   0   0   0   0   0   0   0   0   0   0   0   0   0   0   0   0   0   0   0   0   0   0   0   0   0   0]\n",
      " [  0   0   0   0   0   0   0   0   0   0   0   0   0   0   0   0   0   0   0   0   0   0   0   0   0   0   0   0]\n",
      " [  0   0   0   0   0   0   0   0   0   0   2  39 113 242  22   8   0   0   0   0   0   0   0   0   0   0   0   0]\n",
      " [  0   0   0   0   0   0   0   0   0   0  58 254 254 254 225 199 185 185 185 185 111  77   2   0   0   0   0   0]\n",
      " [  0   0   0   0   0   0   0   0   0   0  63 254 253 249 249 249 249 249 249 144 140  97   1   0   0   0   0   0]\n",
      " [  0   0   0   0   0   0   0   0   0  14 233 246  93   0   0   0   0   0   0   0   0   0   0   0   0   0   0   0]\n",
      " [  0   0   0   0   0   0   0   0  14 183 254 125   0   0   0   0   0   0   0   0   0   0   0   0   0   0   0   0]\n",
      " [  0   0   0   0   0   0   0   0  44 254 189  10   0   0   0   0   0   0   0   0   0   0   0   0   0   0   0   0]\n",
      " [  0   0   0   0   0   0   0   0  44 254  48   0   0   0   0   0   0   0   0   0   0   0   0   0   0   0   0   0]\n",
      " [  0   0   0   0   0   0   0   0  44 254 227 128  58   0   0   0   0   0   0   0   0   0   0   0   0   0   0   0]\n",
      " [  0   0   0   0   0   0   0   0   4 103 228 254 247 234 234 148  70   6   0   0   0   0   0   0   0   0   0   0]\n",
      " [  0   0   0   0   0   0   0   0   0   0   4  92 128 204 255 254 254 194  55   0   0   0   0   0   0   0   0   0]\n",
      " [  0   0   0   0   0   0   0   0   0   0   0   0   0   4  54  54 110 223 234   8   0   0   0   0   0   0   0   0]\n",
      " [  0   0   0   0   0   0   0   0   0   0   0   0   0   0   0   0   0 168 254  10   0   0   0   0   0   0   0   0]\n",
      " [  0   0   0   0   0   0   0   0   0   0   0   0   0   0   0   0   0 168 254  10   0   0   0   0   0   0   0   0]\n",
      " [  0   0   0   0   0   0   0   0   0   0   0   0   0   0   0   0  18 238 254  10   0   0   0   0   0   0   0   0]\n",
      " [  0   0   0   0   0   0   0   0   0   0   0   0   0   0   0   0 138 254 103   1   0   0   0   0   0   0   0   0]\n",
      " [  0   0   0   0   0   0   0   0   0   0   0   0   0   0   0  92 250 214  16   0   0   0   0   0   0   0   0   0]\n",
      " [  0   0   0   0   0   0   0   0   0   0   0   0   0   7 127 246 192  33   0   0   0   0   0   0   0   0   0   0]\n",
      " [  0   0   0   0   0   0   0   1  28   0   0   0  26 186 254 229  62   0   0   0   0   0   0   0   0   0   0   0]\n",
      " [  0   0   0   0   0   0   0   2 139 179 179 179 237 254 209  39   0   0   0   0   0   0   0   0   0   0   0   0]\n",
      " [  0   0   0   0   0   0   0   0   7 119 146 192 192  46  14   0   0   0   0   0   0   0   0   0   0   0   0   0]\n",
      " [  0   0   0   0   0   0   0   0   0   0   0   0   0   0   0   0   0   0   0   0   0   0   0   0   0   0   0   0]\n",
      " [  0   0   0   0   0   0   0   0   0   0   0   0   0   0   0   0   0   0   0   0   0   0   0   0   0   0   0   0]]\n"
     ]
    }
   ],
   "source": [
    "np.set_printoptions(linewidth=200)\n",
    "print(some_digit_image)"
   ]
  },
  {
   "cell_type": "markdown",
   "metadata": {},
   "source": [
    "### scikit-learn PCA parameters:\n",
    "  * **n_components:** This hyperparameter can be used to specify **number of components (an Integer)** we want to reduce to OR a float **between 0.0 and 1.0, indicating the ratio of variance you wish to preserve**. \"n_components\" variable on PCA class give access to Principle Components.\n",
    "  <br>\n",
    "  <br>\n",
    "  * **Explained Varience Ratio:** Explained variance ratio of each principal component, available via the  **\"explained_variance_ratio_\"** attribute. It indicates the proportion of the dataset's variance that lies along the axis of each principal component."
   ]
  },
  {
   "cell_type": "code",
   "execution_count": 9,
   "metadata": {},
   "outputs": [
    {
     "data": {
      "text/plain": [
       "(33600, 784)"
      ]
     },
     "execution_count": 9,
     "metadata": {},
     "output_type": "execute_result"
    }
   ],
   "source": [
    "from sklearn.decomposition import PCA\n",
    "pca1 = PCA() \n",
    "pca1.fit_transform(digit_X_train).shape"
   ]
  },
  {
   "cell_type": "markdown",
   "metadata": {},
   "source": [
    "* Here we have 784 Principal Components, one for each feature. \n",
    "* Note that **components_** attribute contains **principal components as horizontal vectors**, so, to access principal component we have to transpose pca.components_"
   ]
  },
  {
   "cell_type": "code",
   "execution_count": 10,
   "metadata": {},
   "outputs": [
    {
     "data": {
      "text/plain": [
       "(784, 784)"
      ]
     },
     "execution_count": 10,
     "metadata": {},
     "output_type": "execute_result"
    }
   ],
   "source": [
    "pca1.components_[:, :].T.shape ## 784 projection OR 784 principal components"
   ]
  },
  {
   "cell_type": "code",
   "execution_count": 11,
   "metadata": {},
   "outputs": [
    {
     "data": {
      "text/plain": [
       "(784,)"
      ]
     },
     "execution_count": 11,
     "metadata": {},
     "output_type": "execute_result"
    }
   ],
   "source": [
    "pca1.explained_variance_ratio_.shape ## One explained varience ratio for each feature hence 784"
   ]
  },
  {
   "cell_type": "code",
   "execution_count": 12,
   "metadata": {},
   "outputs": [
    {
     "data": {
      "text/plain": [
       "array([0.09790498, 0.07170807, 0.06168112, 0.05379725, 0.04898963, 0.04278393, 0.03282996, 0.02914515, 0.0273982 ,\n",
       "       0.02334093, 0.02091854, 0.02064864, 0.01700168, 0.01699639, 0.01582775, 0.01482909, 0.01313418, 0.01287741,\n",
       "       0.01183235, 0.01148024])"
      ]
     },
     "execution_count": 12,
     "metadata": {},
     "output_type": "execute_result"
    }
   ],
   "source": [
    "pca1.explained_variance_ratio_[:20] ## See how the PC's explained varience is reducing."
   ]
  },
  {
   "cell_type": "code",
   "execution_count": 13,
   "metadata": {},
   "outputs": [
    {
     "data": {
      "text/plain": [
       "0.9863730115702666"
      ]
     },
     "execution_count": 13,
     "metadata": {},
     "output_type": "execute_result"
    }
   ],
   "source": [
    "pca1.explained_variance_ratio_[:300].sum()"
   ]
  },
  {
   "cell_type": "markdown",
   "metadata": {},
   "source": [
    "#### To reduce number of columns to 20, n_components=20, the model selects top 20 components with high explained variance ratio"
   ]
  },
  {
   "cell_type": "code",
   "execution_count": 14,
   "metadata": {},
   "outputs": [
    {
     "data": {
      "text/plain": [
       "(33600, 20)"
      ]
     },
     "execution_count": 14,
     "metadata": {},
     "output_type": "execute_result"
    }
   ],
   "source": [
    "pca2 = PCA(n_components=20)  ## number of components (an Integer)\n",
    "pca2.fit_transform(digit_X_train).shape"
   ]
  },
  {
   "cell_type": "code",
   "execution_count": 15,
   "metadata": {},
   "outputs": [
    {
     "data": {
      "text/plain": [
       "20"
      ]
     },
     "execution_count": 15,
     "metadata": {},
     "output_type": "execute_result"
    }
   ],
   "source": [
    "pca2.n_components_"
   ]
  },
  {
   "cell_type": "markdown",
   "metadata": {},
   "source": [
    "#### If n_components=0.95 (a number between 0 and 1), then model will cumulatively sum explained variance ratio (eigen values) until it reaches n_components. Model will take coresponding \"components of explained variance ratios\" that contributed to n_components percentage."
   ]
  },
  {
   "cell_type": "code",
   "execution_count": 16,
   "metadata": {},
   "outputs": [
    {
     "data": {
      "text/plain": [
       "(33600, 153)"
      ]
     },
     "execution_count": 16,
     "metadata": {},
     "output_type": "execute_result"
    }
   ],
   "source": [
    "pca3 = PCA(n_components=0.95)  ## ratio of variance you wish to preserve\n",
    "pca3.fit_transform(digit_X_train).shape"
   ]
  },
  {
   "cell_type": "code",
   "execution_count": 17,
   "metadata": {},
   "outputs": [
    {
     "data": {
      "text/plain": [
       "153"
      ]
     },
     "execution_count": 17,
     "metadata": {},
     "output_type": "execute_result"
    }
   ],
   "source": [
    "pca3.n_components_"
   ]
  },
  {
   "cell_type": "markdown",
   "metadata": {},
   "source": [
    "### How to choose Right Number of Dimensions or Principal Components ?\n",
    "  * Approach 1:  Take cumulative sum of explained variance of the principal components, pick a threashold for preserving the origianl dataset variance."
   ]
  },
  {
   "cell_type": "code",
   "execution_count": 18,
   "metadata": {},
   "outputs": [
    {
     "data": {
      "text/plain": [
       "array([0.09790498, 0.16961305, 0.23129417, 0.28509142, 0.33408105, 0.37686498, 0.40969494, 0.43884009, 0.46623828,\n",
       "       0.48957922, 0.51049776, 0.5311464 , 0.54814808, 0.56514447, 0.58097221, 0.59580131, 0.60893549, 0.6218129 ,\n",
       "       0.63364525, 0.64512549, 0.65583805, 0.66589694, 0.67561814, 0.68478623, 0.69361131, 0.70201502, 0.71016315,\n",
       "       0.71796791, 0.72537501, 0.7322294 , 0.73881345, 0.74523339, 0.75123253, 0.75711308, 0.76274807, 0.76816062,\n",
       "       0.77322276, 0.77807654, 0.78281684, 0.78748131, 0.79202696, 0.79644709, 0.80061704, 0.8045789 , 0.80841863,\n",
       "       0.81215359, 0.81577905, 0.81925403, 0.82262074, 0.8258334 , 0.82899834, 0.83208564, 0.83504187, 0.83789791,\n",
       "       0.8407014 , 0.84338577, 0.84603914, 0.84859784, 0.85112728, 0.8535867 , 0.85598491, 0.85837132, 0.86065697,\n",
       "       0.86287312, 0.86502185, 0.8670881 , 0.86911431, 0.87106297, 0.87300516, 0.87488037, 0.87675211, 0.87856132,\n",
       "       0.88032419, 0.88203078, 0.88368566, 0.88531438, 0.88692463, 0.88846056, 0.88993083, 0.89135847, 0.89277145,\n",
       "       0.89417442, 0.89555191, 0.89689881, 0.89821437, 0.8995204 , 0.90082152, 0.90206513, 0.90328972, 0.90448465,\n",
       "       0.90563848, 0.90677981, 0.90789682, 0.90899882, 0.91008228, 0.91115104, 0.91218973, 0.9132217 , 0.91423128,\n",
       "       0.91523168, 0.9162033 , 0.91714506, 0.91807675, 0.91899004, 0.91989478, 0.92077552, 0.92163894, 0.9224822 ,\n",
       "       0.92331658, 0.92413093, 0.92491977, 0.92570164, 0.92648272, 0.92725145, 0.92800704, 0.92875796, 0.929491  ,\n",
       "       0.93021409, 0.93092888, 0.93163105, 0.93232506, 0.93300952, 0.93369138, 0.93435801, 0.93501106, 0.93565594,\n",
       "       0.93629161, 0.93691284, 0.93752795, 0.93813625, 0.93873659, 0.93933002, 0.93991901, 0.94050113, 0.94107636,\n",
       "       0.94164077, 0.94220364, 0.94275183, 0.94328204, 0.94380743, 0.94432983, 0.94483929, 0.94534538, 0.94584477,\n",
       "       0.94633795, 0.94682609, 0.94730668, 0.94778327, 0.9482571 , 0.94872789, 0.94919189, 0.94965231, 0.95010527,\n",
       "       0.95055709, 0.95100527, 0.95144619, 0.95188147, 0.95230593, 0.95272697, 0.95314021, 0.95355213, 0.95396024,\n",
       "       0.95435949, 0.95475407, 0.9551449 , 0.95553348, 0.95591446, 0.95629194, 0.95666925, 0.95704262, 0.95740888,\n",
       "       0.95777114, 0.95813235, 0.95848941, 0.9588412 , 0.95919053, 0.95953577, 0.95987734, 0.96021663, 0.96055495,\n",
       "       0.96088802, 0.96121535, 0.96154005, 0.96186347, 0.96218558, 0.96250522, 0.96282267, 0.96313984, 0.96345171,\n",
       "       0.96375938, 0.96406549, 0.96437017, 0.96466972, 0.96496801, 0.96526261, 0.96555506, 0.96584605, 0.96613551,\n",
       "       0.96642162, 0.96670339, 0.96698318, 0.96725905, 0.96753345, 0.96780501, 0.96807291, 0.96833977, 0.96860225,\n",
       "       0.96886379, 0.96912424, 0.96938328, 0.96963999, 0.9698951 , 0.97014889, 0.97040198, 0.97065258, 0.97090037,\n",
       "       0.9711475 , 0.97139381, 0.97163754, 0.97187788, 0.97211721, 0.97235628, 0.97259264, 0.97282789, 0.97305916,\n",
       "       0.97328928, 0.9735176 , 0.97374485, 0.97396914, 0.97419241, 0.97441267, 0.97463147, 0.97484902, 0.97506406,\n",
       "       0.97527873, 0.97549108, 0.97570226, 0.97591244, 0.97612133, 0.97632567, 0.9765294 , 0.97673304, 0.97693425,\n",
       "       0.97713326, 0.97733059, 0.97752693, 0.97772189, 0.9779149 , 0.97810742, 0.97829899, 0.97848832, 0.9786767 ,\n",
       "       0.97886365, 0.97904894, 0.97923381, 0.97941804, 0.97960139, 0.97978322, 0.97996372, 0.98014325, 0.98032033,\n",
       "       0.98049575, 0.9806704 , 0.98084352, 0.98101561, 0.98118664, 0.98135655, 0.98152586, 0.98169379, 0.98186017,\n",
       "       0.98202512, 0.98218925, 0.98235305, 0.98251617, 0.98267856, 0.98283987, 0.98299941, 0.98315821, 0.98331538,\n",
       "       0.98347159, 0.98362711, 0.98378094, 0.98393459, 0.98408624, 0.9842367 , 0.98438632, 0.98453578, 0.98468389,\n",
       "       0.98483043, 0.98497522, 0.98511901, 0.98526222, 0.98540444, 0.98554654, 0.98568688, 0.98582623, 0.98596473,\n",
       "       0.98610214, 0.98623776, 0.98637301, 0.986508  , 0.98664142, 0.98677321, 0.98690459, 0.98703507, 0.9871648 ,\n",
       "       0.98729349, 0.98742127, 0.98754781, 0.98767397, 0.98779921, 0.9879237 , 0.98804729, 0.98817007, 0.98829183,\n",
       "       0.98841321, 0.98853319, 0.98865249, 0.98877122, 0.98888942, 0.98900545, 0.98912101, 0.98923598, 0.98935015,\n",
       "       0.98946332, 0.98957606, 0.98968796, 0.98979862, 0.98990823, 0.99001704, 0.99012527, 0.99023306, 0.99033997,\n",
       "       0.99044631, 0.99055251, 0.99065823, 0.99076227, 0.990866  , 0.99096841, 0.99107035, 0.99117103, 0.99127126,\n",
       "       0.99137111, 0.99146972, 0.9915681 , 0.9916649 , 0.99176095, 0.99185665, 0.99195113, 0.992045  , 0.99213827,\n",
       "       0.99223109, 0.99232265, 0.99241388, 0.99250421, 0.99259433, 0.99268352, 0.99277234, 0.99286008, 0.99294769,\n",
       "       0.99303441, 0.99311979, 0.99320505, 0.99328938, 0.99337353, 0.99345748, 0.99354019, 0.99362193, 0.99370305,\n",
       "       0.99378343, 0.99386319, 0.99394162, 0.99401996, 0.99409756, 0.99417445, 0.99425074, 0.99432623, 0.99440089,\n",
       "       0.99447497, 0.99454814, 0.994621  , 0.99469339, 0.99476506, 0.9948365 , 0.99490764, 0.99497716, 0.9950459 ,\n",
       "       0.99511417, 0.99518195, 0.99524896, 0.99531575, 0.99538136, 0.99544595, 0.99550923, 0.99557225, 0.99563465,\n",
       "       0.99569568, 0.99575608, 0.99581582, 0.99587495, 0.99593323, 0.99599126, 0.99604904, 0.99610645, 0.99616299,\n",
       "       0.99621871, 0.99627421, 0.99632855, 0.99638253, 0.99643606, 0.9964892 , 0.99654211, 0.99659424, 0.99664554,\n",
       "       0.99669641, 0.99674665, 0.99679668, 0.99684553, 0.9968943 , 0.99694245, 0.99698933, 0.99703576, 0.99708189,\n",
       "       0.99712756, 0.99717271, 0.99721684, 0.99726044, 0.99730328, 0.99734578, 0.99738792, 0.99742964, 0.99747072,\n",
       "       0.99751103, 0.99755119, 0.99759106, 0.99762948, 0.99766744, 0.99770505, 0.99774231, 0.99777938, 0.99781561,\n",
       "       0.99785173, 0.99788674, 0.99792156, 0.9979558 , 0.99799   , 0.99802399, 0.9980572 , 0.99809027, 0.99812304,\n",
       "       0.998155  , 0.99818654, 0.99821792, 0.99824859, 0.99827889, 0.99830873, 0.99833843, 0.99836762, 0.99839646,\n",
       "       0.99842506, 0.99845306, 0.99848038, 0.99850742, 0.99853406, 0.99855976, 0.99858535, 0.99861059, 0.99863554,\n",
       "       0.99866003, 0.99868446, 0.99870841, 0.99873221, 0.99875569, 0.998779  , 0.99880198, 0.99882422, 0.99884591,\n",
       "       0.99886723, 0.99888833, 0.99890938, 0.99893017, 0.99895066, 0.99897084, 0.99899089, 0.9990104 , 0.99902966,\n",
       "       0.99904866, 0.99906713, 0.99908552, 0.9991036 , 0.99912149, 0.99913916, 0.99915664, 0.99917394, 0.9991899 ,\n",
       "       0.9992056 , 0.99922121, 0.99923652, 0.99925151, 0.99926647, 0.99928135, 0.99929587, 0.9993101 , 0.99932421,\n",
       "       0.99933795, 0.99935156, 0.99936511, 0.99937844, 0.99939157, 0.99940441, 0.99941721, 0.99942994, 0.99944232,\n",
       "       0.99945457, 0.99946638, 0.99947812, 0.9994897 , 0.99950122, 0.9995127 , 0.99952386, 0.99953501, 0.99954601,\n",
       "       0.99955671, 0.99956731, 0.99957749, 0.9995876 , 0.99959739, 0.99960681, 0.99961612, 0.99962539, 0.99963438,\n",
       "       0.9996433 , 0.99965197, 0.99966035, 0.99966866, 0.99967662, 0.99968445, 0.9996922 , 0.99969986, 0.99970744,\n",
       "       0.99971492, 0.99972221, 0.99972941, 0.99973642, 0.99974325, 0.99974998, 0.99975634, 0.99976267, 0.99976885,\n",
       "       0.99977494, 0.99978101, 0.9997869 , 0.99979257, 0.99979817, 0.99980358, 0.99980888, 0.99981408, 0.99981921,\n",
       "       0.99982427, 0.99982924, 0.99983415, 0.99983888, 0.99984359, 0.99984823, 0.99985271, 0.99985704, 0.99986123,\n",
       "       0.99986537, 0.99986942, 0.99987333, 0.99987714, 0.99988094, 0.99988466, 0.99988828, 0.99989176, 0.99989516,\n",
       "       0.9998984 , 0.99990156, 0.99990463, 0.99990767, 0.99991063, 0.99991353, 0.99991627, 0.99991897, 0.99992157,\n",
       "       0.99992411, 0.99992661, 0.99992904, 0.99993139, 0.99993372, 0.99993604, 0.99993831, 0.99994046, 0.99994257,\n",
       "       0.99994464, 0.99994667, 0.99994866, 0.99995062, 0.99995244, 0.99995423, 0.99995598, 0.99995764, 0.99995928,\n",
       "       0.99996088, 0.99996242, 0.99996395, 0.99996534, 0.99996668, 0.99996796, 0.99996919, 0.99997042, 0.99997161,\n",
       "       0.99997278, 0.99997392, 0.99997504, 0.99997609, 0.99997709, 0.99997806, 0.99997899, 0.9999799 , 0.99998078,\n",
       "       0.99998165, 0.99998249, 0.99998332, 0.99998415, 0.99998496, 0.99998562, 0.99998627, 0.9999869 , 0.99998752,\n",
       "       0.99998812, 0.99998869, 0.99998925, 0.9999898 , 0.99999034, 0.99999085, 0.99999136, 0.99999184, 0.9999923 ,\n",
       "       0.99999273, 0.99999316, 0.99999355, 0.99999394, 0.99999431, 0.99999467, 0.99999502, 0.99999537, 0.99999571,\n",
       "       0.99999603, 0.99999635, 0.99999663, 0.99999688, 0.99999713, 0.99999737, 0.9999976 , 0.99999783, 0.99999803,\n",
       "       0.99999824, 0.99999844, 0.99999865, 0.99999882, 0.99999893, 0.99999902, 0.99999911, 0.99999919, 0.99999927,\n",
       "       0.99999935, 0.99999942, 0.99999949, 0.99999956, 0.99999962, 0.99999967, 0.99999972, 0.99999976, 0.99999979,\n",
       "       0.99999981, 0.99999983, 0.99999985, 0.99999987, 0.99999989, 0.9999999 , 0.99999992, 0.99999993, 0.99999995,\n",
       "       0.99999996, 0.99999996, 0.99999997, 0.99999998, 0.99999999, 0.99999999, 1.        , 1.        , 1.        ,\n",
       "       1.        , 1.        , 1.        , 1.        , 1.        , 1.        , 1.        , 1.        , 1.        ,\n",
       "       1.        , 1.        , 1.        , 1.        , 1.        , 1.        , 1.        , 1.        , 1.        ,\n",
       "       1.        , 1.        , 1.        , 1.        , 1.        , 1.        , 1.        , 1.        , 1.        ,\n",
       "       1.        , 1.        , 1.        , 1.        , 1.        , 1.        , 1.        , 1.        , 1.        ,\n",
       "       1.        , 1.        , 1.        , 1.        , 1.        , 1.        , 1.        , 1.        , 1.        ,\n",
       "       1.        , 1.        , 1.        , 1.        , 1.        , 1.        , 1.        , 1.        , 1.        ,\n",
       "       1.        , 1.        , 1.        , 1.        , 1.        , 1.        , 1.        , 1.        , 1.        ,\n",
       "       1.        , 1.        , 1.        , 1.        , 1.        , 1.        , 1.        , 1.        , 1.        ,\n",
       "       1.        , 1.        , 1.        , 1.        , 1.        , 1.        , 1.        , 1.        , 1.        ,\n",
       "       1.        , 1.        , 1.        , 1.        , 1.        , 1.        , 1.        , 1.        , 1.        ,\n",
       "       1.        ])"
      ]
     },
     "execution_count": 18,
     "metadata": {},
     "output_type": "execute_result"
    }
   ],
   "source": [
    "arr_cumsum = np.cumsum(pca1.explained_variance_ratio_)\n",
    "arr_cumsum"
   ]
  },
  {
   "cell_type": "code",
   "execution_count": 19,
   "metadata": {},
   "outputs": [
    {
     "data": {
      "text/plain": [
       "696"
      ]
     },
     "execution_count": 19,
     "metadata": {},
     "output_type": "execute_result"
    }
   ],
   "source": [
    "np.argmax(arr_cumsum)"
   ]
  },
  {
   "cell_type": "code",
   "execution_count": 20,
   "metadata": {},
   "outputs": [
    {
     "data": {
      "text/plain": [
       "array([1., 1., 1., 1., 1., 1., 1., 1., 1., 1., 1., 1., 1., 1., 1., 1., 1., 1., 1., 1., 1., 1., 1., 1., 1., 1., 1.,\n",
       "       1., 1., 1., 1., 1., 1., 1., 1., 1., 1., 1., 1., 1., 1., 1., 1., 1., 1., 1., 1., 1., 1., 1., 1., 1., 1., 1.,\n",
       "       1., 1., 1., 1., 1., 1., 1., 1., 1., 1., 1., 1., 1., 1., 1., 1., 1., 1., 1., 1., 1., 1., 1., 1., 1., 1., 1.,\n",
       "       1., 1., 1., 1.])"
      ]
     },
     "execution_count": 20,
     "metadata": {},
     "output_type": "execute_result"
    }
   ],
   "source": [
    "arr_cumsum[699:]"
   ]
  },
  {
   "cell_type": "code",
   "execution_count": 21,
   "metadata": {},
   "outputs": [
    {
     "name": "stdout",
     "output_type": "stream",
     "text": [
      "Number of components for 99% preserverd vairance :  330\n"
     ]
    }
   ],
   "source": [
    "num_components = np.argmax(arr_cumsum >= 0.99) + 1\n",
    "print(\"Number of components for 99% preserverd vairance : \", num_components)"
   ]
  },
  {
   "cell_type": "markdown",
   "metadata": {},
   "source": [
    "#### Now use this \"num_components\"  as a paramenter in PCA(n_components=num_components), get data with dimentionality reduced from 784 to 330."
   ]
  },
  {
   "cell_type": "code",
   "execution_count": 22,
   "metadata": {},
   "outputs": [
    {
     "data": {
      "text/plain": [
       "(33600, 330)"
      ]
     },
     "execution_count": 22,
     "metadata": {},
     "output_type": "execute_result"
    }
   ],
   "source": [
    "pca_99 = PCA(n_components=num_components)\n",
    "digit_X_train_99 = pca_99.fit_transform(digit_X_train)\n",
    "digit_X_train_99.shape"
   ]
  },
  {
   "cell_type": "markdown",
   "metadata": {},
   "source": [
    "  * Approach 2:  Plot the explained variance (cumulative) as a function of the number of dimensions. There will usually be an elbow in the curve, where the explained variance stops growing fast. We can take the number of dimentions at this elbow as the best explained variance."
   ]
  },
  {
   "cell_type": "code",
   "execution_count": 23,
   "metadata": {},
   "outputs": [
    {
     "data": {
      "image/png": "[encoded data removed]",
      "text/plain": [
       "<Figure size 432x288 with 1 Axes>"
      ]
     },
     "metadata": {
      "needs_background": "light"
     },
     "output_type": "display_data"
    }
   ],
   "source": [
    "x_lbls = np.arange(len(arr_cumsum))\n",
    "plt.plot(x_lbls, arr_cumsum, \"b-\", linewidth=2)\n",
    "plt.xlabel(\"Number of Dimensions\", fontsize=14) \n",
    "plt.ylabel(\"Cumulative Explained Variance\", fontsize=14)   \n",
    "plt.grid(True)"
   ]
  },
  {
   "cell_type": "code",
   "execution_count": 24,
   "metadata": {},
   "outputs": [
    {
     "data": {
      "text/plain": [
       "(33600, 400)"
      ]
     },
     "execution_count": 24,
     "metadata": {},
     "output_type": "execute_result"
    }
   ],
   "source": [
    "pca_dim_400 = PCA(n_components=400)\n",
    "digit_X_train_dim_400 = pca_dim_400.fit_transform(digit_X_train)\n",
    "digit_X_train_dim_400.shape"
   ]
  },
  {
   "cell_type": "code",
   "execution_count": 25,
   "metadata": {},
   "outputs": [
    {
     "data": {
      "text/plain": [
       "(784, 400)"
      ]
     },
     "execution_count": 25,
     "metadata": {},
     "output_type": "execute_result"
    }
   ],
   "source": [
    "pca_dim_400.components_[:, :].T.shape"
   ]
  },
  {
   "cell_type": "markdown",
   "metadata": {},
   "source": [
    "### decompress (Inverse Transform) the reduced dataset back to 784 dimensions: \n",
    "  * We can decompress the reduced dataset back to 784 dimensions by applying the inverse transformation of the PCA projection. **This reconstructed data won't give back the original data,** since the projection lost a bit of information (within the 5% variance that was dropped), but it will likely be quite close to the original data. The mean squared distance between the original data and the reconstructed data (compressed and then decompressed) is called the **\"Reconstruction Error\"**."
   ]
  },
  {
   "cell_type": "code",
   "execution_count": 26,
   "metadata": {},
   "outputs": [
    {
     "data": {
      "text/plain": [
       "(33600, 784)"
      ]
     },
     "execution_count": 26,
     "metadata": {},
     "output_type": "execute_result"
    }
   ],
   "source": [
    "digit_X_train_reconstructed = pca_dim_400.inverse_transform(digit_X_train_dim_400)\n",
    "digit_X_train_reconstructed.shape"
   ]
  },
  {
   "cell_type": "code",
   "execution_count": 27,
   "metadata": {},
   "outputs": [
    {
     "data": {
      "text/plain": [
       "Int64Index([21063, 11633, 22280,  6174, 22531, 26810, 40841,  8629, 23049,\n",
       "            25651,\n",
       "            ...\n",
       "               59, 32227,  9635, 33027, 22844, 36410, 32810, 39245, 29475,\n",
       "            38375],\n",
       "           dtype='int64', length=33600)"
      ]
     },
     "execution_count": 27,
     "metadata": {},
     "output_type": "execute_result"
    }
   ],
   "source": [
    "digit_X_train.index"
   ]
  },
  {
   "cell_type": "code",
   "execution_count": 28,
   "metadata": {},
   "outputs": [
    {
     "data": {
      "text/plain": [
       "(-0.5, 27.5, 27.5, -0.5)"
      ]
     },
     "execution_count": 28,
     "metadata": {},
     "output_type": "execute_result"
    },
    {
     "data": {
      "image/png": "[encoded data removed]",
      "text/plain": [
       "<Figure size 432x288 with 2 Axes>"
      ]
     },
     "metadata": {
      "needs_background": "light"
     },
     "output_type": "display_data"
    }
   ],
   "source": [
    "from  matplotlib.cm import  binary\n",
    "\n",
    "some_digit = digit_X_train.iloc[13361]\n",
    "some_digit_image = some_digit.values.reshape(28, 28)\n",
    "\n",
    "some_digit_recon = digit_X_train_reconstructed[13361]\n",
    "some_digit_image_recon = some_digit_recon.reshape(28, 28)\n",
    "\n",
    "\n",
    "#plt.figure(figsize=(10,10))\n",
    "plt.subplot(121)\n",
    "plt.imshow(some_digit_image, cmap = binary,\n",
    "           interpolation=\"nearest\")\n",
    "plt.axis(\"off\")\n",
    "\n",
    "plt.subplot(122)\n",
    "plt.imshow(some_digit_image_recon, cmap = binary,\n",
    "           interpolation=\"nearest\")\n",
    "plt.axis(\"off\")"
   ]
  },
  {
   "cell_type": "markdown",
   "metadata": {},
   "source": [
    "### Is our Dimensionality Reduction Useful?\n",
    "  * On Hand Written Digit Recognition dataset (with 784 pixels) we got an F1-Score of 92% on train set\n",
    "  * Let's use Dimensionality reduced (400 feature) dataset and see if we are getting an F1-Score close t0 92% on train set"
   ]
  },
  {
   "cell_type": "code",
   "execution_count": 29,
   "metadata": {},
   "outputs": [],
   "source": [
    "from sklearn.preprocessing import StandardScaler\n",
    "stdScaler = StandardScaler()\n",
    "digit_X_train_dim_400 = stdScaler.fit_transform(digit_X_train_dim_400)"
   ]
  },
  {
   "cell_type": "code",
   "execution_count": 30,
   "metadata": {},
   "outputs": [
    {
     "data": {
      "text/plain": [
       "SGDClassifier(alpha=0.0001, average=False, class_weight=None,\n",
       "              early_stopping=False, epsilon=0.1, eta0=0.0, fit_intercept=True,\n",
       "              l1_ratio=0.15, learning_rate='optimal', loss='log', max_iter=1000,\n",
       "              n_iter_no_change=5, n_jobs=None, penalty='l2', power_t=0.5,\n",
       "              random_state=42, shuffle=True, tol=0.001, validation_fraction=0.1,\n",
       "              verbose=0, warm_start=False)"
      ]
     },
     "execution_count": 30,
     "metadata": {},
     "output_type": "execute_result"
    }
   ],
   "source": [
    "from sklearn.linear_model import SGDClassifier\n",
    "\n",
    "sgd_clf = SGDClassifier(random_state=42, loss='log')\n",
    "sgd_clf.fit(digit_X_train_dim_400, digit_y_train)"
   ]
  },
  {
   "cell_type": "code",
   "execution_count": 31,
   "metadata": {},
   "outputs": [],
   "source": [
    "y_train_pred = sgd_clf.predict(digit_X_train_dim_400)"
   ]
  },
  {
   "cell_type": "code",
   "execution_count": 32,
   "metadata": {},
   "outputs": [
    {
     "data": {
      "text/plain": [
       "0.9270033823739077"
      ]
     },
     "execution_count": 32,
     "metadata": {},
     "output_type": "execute_result"
    }
   ],
   "source": [
    "from sklearn.metrics import f1_score\n",
    "f1_score(digit_y_train, y_train_pred, average='weighted')"
   ]
  },
  {
   "cell_type": "markdown",
   "metadata": {},
   "source": [
    "## Incremental PCA\n",
    "  * One problem with the preceding implementation of PCA is that it requires the whole training set to fit in memory in order for the SVD algorithm to run. **To overcome this memory issue we can use incremental PCA (IPCA) algorithms.** Incremental PCA can take data in mini-batches one mini-batch at a time. This is useful for large training sets, and also to apply PCA online (i.e., on the fly, as new instances arrive). **Please remember to call partial_fit() on IPCA** (insead of fit())."
   ]
  },
  {
   "cell_type": "code",
   "execution_count": 33,
   "metadata": {},
   "outputs": [
    {
     "data": {
      "text/plain": [
       "(33600, 200)"
      ]
     },
     "execution_count": 33,
     "metadata": {},
     "output_type": "execute_result"
    }
   ],
   "source": [
    "from sklearn.decomposition import IncrementalPCA\n",
    "\n",
    "n_batches = 100\n",
    "inc_pca = IncrementalPCA(n_components=200)\n",
    "for batch in np.array_split(digit_X_train, n_batches):\n",
    "    inc_pca.partial_fit(batch)\n",
    "\n",
    "digit_X_train_inc = inc_pca.transform(digit_X_train)    \n",
    "digit_X_train_inc.shape"
   ]
  },
  {
   "cell_type": "code",
   "execution_count": null,
   "metadata": {},
   "outputs": [],
   "source": []
  }
 ],
 "metadata": {
  "kernelspec": {
   "display_name": "Python 3",
   "language": "python",
   "name": "python3"
  },
  "language_info": {
   "codemirror_mode": {
    "name": "ipython",
    "version": 3
   },
   "file_extension": ".py",
   "mimetype": "text/x-python",
   "name": "python",
   "nbconvert_exporter": "python",
   "pygments_lexer": "ipython3",
   "version": "3.8.8"
  }
 },
 "nbformat": 4,
 "nbformat_minor": 2
}
